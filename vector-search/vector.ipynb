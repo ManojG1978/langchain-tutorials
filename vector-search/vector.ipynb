{
 "cells": [
  {
   "cell_type": "markdown",
   "metadata": {},
   "source": [
    "Install Packages"
   ]
  },
  {
   "cell_type": "code",
   "execution_count": null,
   "metadata": {},
   "outputs": [],
   "source": [
    "%pip install langchain -U\n",
    "%pip install tiktoken\n",
    "%pip install openai -U \n",
    "%pip install python-dotenv\n",
    "%pip install context-python -U"
   ]
  },
  {
   "cell_type": "code",
   "execution_count": 43,
   "metadata": {},
   "outputs": [],
   "source": [
    "import os\n",
    "from dotenv import load_dotenv\n",
    "from langchain.embeddings.openai import OpenAIEmbeddings\n",
    "from langchain.vectorstores import Pinecone\n",
    "import pinecone"
   ]
  },
  {
   "cell_type": "code",
   "execution_count": 44,
   "metadata": {},
   "outputs": [],
   "source": [
    "load_dotenv()\n",
    "\n",
    "EMBEDDING_MODEL: str = os.environ[\"EMBEDDING_MODEL\"]\n",
    "PINECONE_API_KEY = os.environ[\"PINECONE_API_KEY\"]\n",
    "PINECONE_API_ENV = os.environ[\"PINECONE_API_ENV\"]\n",
    "CONTEXT_API_TOKEN = os.environ[\"CONTEXT_API_TOKEN\"]"
   ]
  },
  {
   "cell_type": "code",
   "execution_count": 45,
   "metadata": {},
   "outputs": [],
   "source": [
    "embeddings: OpenAIEmbeddings = OpenAIEmbeddings(model=EMBEDDING_MODEL)"
   ]
  },
  {
   "cell_type": "code",
   "execution_count": 32,
   "metadata": {},
   "outputs": [],
   "source": [
    "# initialize pinecone\n",
    "pinecone.init(\n",
    "    api_key=PINECONE_API_KEY,  # find at app.pinecone.io\n",
    "    environment=PINECONE_API_ENV  # next to api key in console\n",
    ")\n",
    "index_name = \"alzh\" # put in the name of your pinecone index here"
   ]
  },
  {
   "cell_type": "code",
   "execution_count": 46,
   "metadata": {},
   "outputs": [],
   "source": [
    "from langchain.document_loaders import PyPDFDirectoryLoader\n",
    "from langchain.text_splitter import RecursiveCharacterTextSplitter\n",
    "\n",
    "loader = PyPDFDirectoryLoader(\"./docs/\")\n",
    "\n",
    "documents = loader.load()\n",
    "\n",
    "text_splitter = RecursiveCharacterTextSplitter(chunk_size=800, chunk_overlap=0)\n",
    "texts = text_splitter.split_documents(documents)\n",
    "\n",
    "# Create a new index\n",
    "docsearch = Pinecone.from_texts([t.page_content for t in texts], metadatas=[t.metadata for t in texts], embedding=embeddings, index_name=index_name)"
   ]
  },
  {
   "cell_type": "code",
   "execution_count": 47,
   "metadata": {},
   "outputs": [],
   "source": [
    "# Map to an existing index\n",
    "index = pinecone.Index(index_name)\n",
    "\n",
    "vector_store = Pinecone(index, embeddings.embed_query, text_key=\"text\")"
   ]
  },
  {
   "cell_type": "code",
   "execution_count": 22,
   "metadata": {},
   "outputs": [],
   "source": [
    "# Using davinci completion using QA chain\n",
    "\n",
    "# from langchain.chains.question_answering import load_qa_chain\n",
    "# from langchain.llms import OpenAI\n",
    "# from langchain.callbacks import get_openai_callback\n",
    "\n",
    "# with get_openai_callback() as cb:\n",
    "#     chain = load_qa_chain(OpenAI(temperature=0), chain_type=\"stuff\")\n",
    "\n",
    "#     print(chain.run(input_documents=docs, question=query))\n",
    "\n",
    "#     print(cb)"
   ]
  },
  {
   "cell_type": "code",
   "execution_count": 51,
   "metadata": {},
   "outputs": [
    {
     "name": "stdout",
     "output_type": "stream",
     "text": [
      "The process of a blood test for Alzheimer's disease involves the measurement of specific biomarkers in the blood that are associated with the disease. These biomarkers can include amyloid beta (Aβ) proteins, tau proteins, and neurofilament light chain (NfL). The levels of these biomarkers in the blood can provide information about the presence and progression of Alzheimer's disease. The use of blood biomarkers in Alzheimer's disease research and clinical trials is a rapidly evolving field and shows promise for improving diagnosis and monitoring treatment effects. However, further research and validation are needed before blood tests for Alzheimer's disease can be widely implemented in clinical practice. \n",
      "\n",
      "\n",
      "Sources:\n",
      "1. Hansson O, Edelmayer RM, Boxer AL, et al. The Alzheimer’s Association appropriate use recommendations for blood biomarkers in Alzheimer’s disease. Alzheimers Dement. 2022;18(12):2669-2686. doi:10.1002/alz.12756\n",
      "2. Schindler SE, Li Y, Li M, et al. Using Alzheimer’s disease blood tests to accelerate clinical trial enrollment [published online ahead of print, 2022 Aug 7]. Alzheimers Dement. 2022;10.1002/alz.12754. doi:10.1002/alz.12754\n",
      "3. Paul Solomon, et al. Symposium 2 Presentation 2; Abstract: Symposia, Conferences, Oral communications: 14th Clinical Trials on Alzheimer’s Disease (CTAD) November 9-12, 2021. J Prev Alzheimers Dis. 2021;8(S1):S2-S72. doi:10.14283/jpad.2021.57\n",
      "4. Teunissen CE, Verberk IMW, Thijssen EH, et al. Blood-based biomarkers for Alzheimer’s disease: towards clinical implementation. Lancet Neurol. 2022;21(1):66-77. doi:10.1016/S1474-4422(21)00361-6\n",
      "\n",
      "Tokens Used: 2662\n",
      "\tPrompt Tokens: 2231\n",
      "\tCompletion Tokens: 431\n",
      "Successful Requests: 1\n",
      "Total Cost (USD): $0.0042085000000000004\n"
     ]
    }
   ],
   "source": [
    "# Using GPT-3.5 with a conversational memory\n",
    "from langchain.chat_models import ChatOpenAI\n",
    "from langchain.chains import RetrievalQAWithSourcesChain\n",
    "from langchain.callbacks import get_openai_callback\n",
    "from langchain.callbacks import ContextCallbackHandler\n",
    "\n",
    "context_callback = ContextCallbackHandler(CONTEXT_API_TOKEN)\n",
    "\n",
    "with get_openai_callback() as cb:\n",
    "    llm = ChatOpenAI(\n",
    "        openai_api_key=os.environ[\"OPENAI_API_KEY\"],\n",
    "        model_name='gpt-3.5-turbo',\n",
    "        temperature=0.0,\n",
    "        callbacks=[context_callback]\n",
    "    )\n",
    "    \n",
    "    qa = RetrievalQAWithSourcesChain.from_chain_type(\n",
    "        llm=llm,\n",
    "        chain_type=\"stuff\",\n",
    "        retriever=vector_store.as_retriever()\n",
    "    )\n",
    "\n",
    "    query = \"How does a blood test for Alzheimer's work?\"\n",
    "    \n",
    "    result = qa({\"question\": query})\n",
    "\n",
    "    print(result[\"answer\"])\n",
    "    print(\"Sources:\")\n",
    "    print(result[\"sources\"])\n",
    "    print()\n",
    "    print(cb)"
   ]
  }
 ],
 "metadata": {
  "kernelspec": {
   "display_name": ".venv",
   "language": "python",
   "name": "python3"
  },
  "language_info": {
   "codemirror_mode": {
    "name": "ipython",
    "version": 3
   },
   "file_extension": ".py",
   "mimetype": "text/x-python",
   "name": "python",
   "nbconvert_exporter": "python",
   "pygments_lexer": "ipython3",
   "version": "3.10.4"
  },
  "orig_nbformat": 4
 },
 "nbformat": 4,
 "nbformat_minor": 2
}
